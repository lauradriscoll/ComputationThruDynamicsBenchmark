{
 "cells": [
  {
   "cell_type": "code",
   "execution_count": 1,
   "metadata": {},
   "outputs": [
    {
     "name": "stderr",
     "output_type": "stream",
     "text": [
      "/home/csverst/miniconda3/envs/build5/lib/python3.10/site-packages/tqdm/auto.py:21: TqdmWarning: IProgress not found. Please update jupyter and ipywidgets. See https://ipywidgets.readthedocs.io/en/stable/user_install.html\n",
      "  from .autonotebook import tqdm as notebook_tqdm\n"
     ]
    }
   ],
   "source": [
    "import torch\n",
    "from interpretability.task_modeling.task_env.task_env import RandomTargetDelay\n",
    "from motornet.effector import RigidTendonArm26\n",
    "from motornet.muscle import MujocoHillMuscle"
   ]
  },
  {
   "cell_type": "markdown",
   "metadata": {},
   "source": [
    "Effector builds the musculoskeletal model, including the muscles and the skeleton.\n",
    "This model uses Mujoco muscles"
   ]
  },
  {
   "cell_type": "code",
   "execution_count": 2,
   "metadata": {},
   "outputs": [],
   "source": [
    "\n",
    "effector = RigidTendonArm26(muscle= MujocoHillMuscle()) "
   ]
  },
  {
   "cell_type": "markdown",
   "metadata": {},
   "source": [
    "The Environment takes in the effector and implements the task logic that the musculoskeletal model will try to solve."
   ]
  },
  {
   "cell_type": "code",
   "execution_count": 3,
   "metadata": {},
   "outputs": [],
   "source": [
    "task = RandomTargetDelay(effector, max_ep_duration= 2.0)"
   ]
  },
  {
   "cell_type": "markdown",
   "metadata": {},
   "source": [
    "All environments should have a \"generate_dataset\" method that returns a dictionary of torch tensors for training"
   ]
  },
  {
   "cell_type": "code",
   "execution_count": 4,
   "metadata": {},
   "outputs": [],
   "source": [
    "dataset_dict = task.generate_dataset(100)"
   ]
  },
  {
   "cell_type": "code",
   "execution_count": 5,
   "metadata": {},
   "outputs": [
    {
     "name": "stdout",
     "output_type": "stream",
     "text": [
      "dict_keys(['ics', 'inputs', 'targets', 'conds', 'extra'])\n"
     ]
    }
   ],
   "source": [
    "# The fields of the datasets are:\n",
    "print(dataset_dict.keys())\n",
    "ics = dataset_dict['ics'] # initial conditions of the trials to train on\n",
    "inputs = dataset_dict['inputs'] # inputs to the RNN (from external to the environment, e.g. new goal, etc.)\n",
    "targets = dataset_dict['targets'] # The values that the output of the RNN should try to match\n",
    "conds = dataset_dict['conds'] # The conditions of the trials (for samplers that need to know the conditions of the trials, e.g. the delay time, etc.)\n",
    "extra = dataset_dict['extra'] # Extra information that might be needed for training (e.g. delay time, trial_length etc.)\n"
   ]
  },
  {
   "cell_type": "markdown",
   "metadata": {},
   "source": [
    "To make your own environment, there are a few things that you need to figure out:\n",
    "1. What musculoskeletal model to use:\n",
    "    - I recommend sticking with the existing models, as musculoskeletal geometry can be tricky\n",
    "    - Mujoco Muscles are also nice and fast, so I'd recommend them as your muscle type.\n",
    "2. What your loss function should be\n",
    "    - The loss function from RandomTargetDelay is shown here.\n",
    "3. What task you'd like the model to perform:\n",
    "    - The task logic must be reflected in the dataset dict above\n"
   ]
  },
  {
   "cell_type": "markdown",
   "metadata": {},
   "source": [
    "Probably the easiest way to explain it is to show the training_step and forward() methods of the task_wrapper class, which handles the logic of the interactions between the RNN and the MotorNet environment"
   ]
  },
  {
   "cell_type": "code",
   "execution_count": 6,
   "metadata": {},
   "outputs": [],
   "source": [
    "\"\"\" \n",
    "This is the training step of the model. The model is a RNN that takes as input the initial conditions of the trials, \n",
    "the inputs to the RNN, and the conditions of the trials. Note the similarity to the dataset_dict above.\n",
    "The output of the RNN is compared to the targets of the trials and the loss is computed. \n",
    "\"\"\"\n",
    "def training_step(self, batch, batch_ix):\n",
    "    # Get the batch data\n",
    "    ics = batch[0]\n",
    "    inputs = batch[1]\n",
    "    targets = batch[2]\n",
    "    conds = batch[4]\n",
    "    extras = batch[5]\n",
    "\n",
    "    \"\"\" The training step passes the batch through the model, which returns an \"output_dict\" with the outputs of the model.\"\"\"\n",
    "    # Pass data through the model\n",
    "    output_dict = self.forward(ics, inputs, targets)\n",
    "\n",
    "    \"\"\" \n",
    "    We construct a \"loss_dict\" that contains all the information potentially needed to compute the loss.\n",
    "    \"controlled\" is the variable that the model is trying to control (e.g. the effector position, etc.)\n",
    "    \"actions\" are the actions that the model is taking to control the \"controlled\" variable (e.g. the muscle activations, etc.)\n",
    "    \"targets\" are the values that the \"controlled\" variable should try to match\n",
    "    \"inputs\" are the inputs to the model (e.g., the targets that model sees, the go cue etc.)\n",
    "    \"conds\" are the conditions of the trials (e.g. the delay time, the trial length etc.)\n",
    "    \"extra\" is extra information that might be needed for computing the loss (e.g. the delay time, the trial length etc.)\n",
    "    \n",
    "    \"\"\"\n",
    "    loss_dict = {\n",
    "        \"controlled\": output_dict[\"controlled\"],\n",
    "        \"actions\": output_dict[\"actions\"],\n",
    "        \"targets\": targets,\n",
    "        \"inputs\": inputs,\n",
    "        \"conds\": conds,\n",
    "        \"extra\": extras,\n",
    "    }\n",
    "\n",
    "    # Compute the loss using the loss function object\n",
    "    loss_all = self.loss_func(loss_dict)\n",
    "    self.log(\"train/loss\", loss_all)\n",
    "    return loss_all"
   ]
  },
  {
   "cell_type": "markdown",
   "metadata": {},
   "source": [
    "Here is the loss function that the RandomTarget task uses.\n",
    "\n",
    "Notice that it seeks to minimize the weighted combination of: \n",
    "- MSE from \"controlled\" (hand position) vs target \n",
    "- the actions (muscle activations)."
   ]
  },
  {
   "cell_type": "code",
   "execution_count": 7,
   "metadata": {},
   "outputs": [],
   "source": [
    "import torch.nn as nn\n",
    "class LossFunc:\n",
    "    def __init__():\n",
    "        pass\n",
    "\n",
    "    def __call__(self, pred, target, act=None):\n",
    "        pass\n",
    "\n",
    "\n",
    "class RandomTargetLoss(LossFunc):\n",
    "    def __init__(self, position_loss, pos_weight, act_weight):\n",
    "        self.position_loss = position_loss\n",
    "        self.action_loss = nn.MSELoss()\n",
    "        self.pos_weight = pos_weight\n",
    "        self.act_weight = act_weight\n",
    "\n",
    "    def __call__(self, loss_dict):\n",
    "        pred = loss_dict[\"controlled\"]\n",
    "        target = loss_dict[\"targets\"]\n",
    "        act = loss_dict[\"actions\"]\n",
    "        # inputs = loss_dict[\"inputs\"]\n",
    "        # TODO: torch.clip\n",
    "        pos_loss = self.pos_weight * self.position_loss(pred, target)\n",
    "        act_loss = self.act_weight * self.action_loss(act, torch.zeros_like(act))\n",
    "        return pos_loss + act_loss"
   ]
  },
  {
   "cell_type": "markdown",
   "metadata": {},
   "source": [
    "Finally, I'm showing the forward method of the task_wrapper class.\n",
    "This shouldn't need to change, but understanding it may make your life easier in the long run.\n",
    "\n",
    "Importantly, note:\n",
    "- The difference betweeen inputs  and env_states\n",
    "-- Inputs are the \"external\" inputs to the model, such as if the goal changes or the go-cue is given\n",
    "-- env_states are the \"inputs\" to the RNN that come from the MotorNet environment itself\n",
    "\n",
    "In general, contextual information should be in inputs, while things to do with the musculoskeletal model should be in env_states"
   ]
  },
  {
   "cell_type": "code",
   "execution_count": 8,
   "metadata": {},
   "outputs": [],
   "source": [
    "def forward(self, ics, inputs, targets=None):\n",
    "    \"\"\"Pass data through the model\n",
    "    args:\n",
    "        ics (torch.Tensor):\n",
    "            The initial conditions for the environment\n",
    "        inputs (torch.Tensor):\n",
    "            The inputs to the model\n",
    "        targets (torch.Tensor):\n",
    "            The targets for the model\n",
    "            (i.e., the outputs of the environment or MotorNet goal)\n",
    "\n",
    "    \"\"\"\n",
    "    batch_size = ics.shape[0]\n",
    "\n",
    "    # If we are in a coupled environment, set the environment state\n",
    "    if self.task_env.coupled_env:\n",
    "        options = {\"ic_state\": ics, \"target_state\": targets[:, 0, :]}\n",
    "        env_states, info = self.task_env.reset(\n",
    "            batch_size=batch_size, options=options\n",
    "        )\n",
    "        env_state_list = []\n",
    "    else:\n",
    "        env_states = None\n",
    "        env_state_list = None\n",
    "\n",
    "    # If the model has specialized initializations, call them\n",
    "    if hasattr(self.model, \"init_hidden\"):\n",
    "        hidden = self.model.init_hidden(batch_size=batch_size).to(self.device)\n",
    "    else:\n",
    "        hidden = torch.zeros(batch_size, self.latent_size).to(self.device)\n",
    "\n",
    "    # Latents are the hidden states of the model\n",
    "    latents = []\n",
    "\n",
    "    # Controlled is what the model is attempting to control\n",
    "    # (i.e., hand position for MotorNet)\n",
    "    # or the readout output for decoupled environments\n",
    "    controlled = []\n",
    "\n",
    "    # Actions are the the model output themselves\n",
    "    # (i.e., the motor commands for MotorNet)\n",
    "    # or the readout output for decoupled environments\n",
    "    # NOTE: for decoupled environments, actions and controlled are the same\n",
    "    actions = []\n",
    "\n",
    "    count = 0\n",
    "    terminated = False\n",
    "    while not terminated and len(controlled) < self.task_env.n_timesteps:\n",
    "\n",
    "        # Get the appropriate model input for coupled and decoupled envs\n",
    "        if self.task_env.coupled_env:\n",
    "            # If we are in a coupled environment,\n",
    "            # both the environment state\n",
    "            # and the external inputs are fed into the model\n",
    "            model_input = torch.hstack((env_states, inputs[:, count, :]))\n",
    "        else:\n",
    "            # If we are in a decoupled environment,\n",
    "            # only the external inputs are fed into the model\n",
    "            model_input = inputs[:, count, :]\n",
    "\n",
    "        # Produce an action and a hidden state\n",
    "        action, hidden = self.model(model_input, hidden)\n",
    "\n",
    "        # Update env if coupled\n",
    "        if self.task_env.coupled_env:\n",
    "            self.task_env.set_goal(targets[:, count, :])\n",
    "\n",
    "            # Step the environment forward\n",
    "            env_states, _, terminated, _, info = self.task_env.step(\n",
    "                action=action, inputs=inputs[:, count, :]\n",
    "            )\n",
    "            controlled.append(info[\"states\"][self.state_label])\n",
    "            actions.append(action)\n",
    "            env_state_list.append(env_states)\n",
    "\n",
    "        # If decoupled, just record the action\n",
    "        else:\n",
    "            controlled.append(action)\n",
    "            actions.append(action)\n",
    "\n",
    "        # Record the hidden state\n",
    "        latents.append(hidden)\n",
    "        count += 1\n",
    "\n",
    "    # Stack into tensors\n",
    "    controlled = torch.stack(controlled, dim=1)\n",
    "    latents = torch.stack(latents, dim=1)\n",
    "    actions = torch.stack(actions, dim=1)\n",
    "    if self.task_env.coupled_env:\n",
    "        states = torch.stack(env_state_list, dim=1)\n",
    "    else:\n",
    "        states = None\n",
    "\n",
    "    output_dict = {\n",
    "        \"controlled\": controlled,  # BETTER VARIABLE NAME?\n",
    "        \"latents\": latents,\n",
    "        \"actions\": actions,\n",
    "        \"states\": states,\n",
    "    }\n",
    "    return output_dict"
   ]
  },
  {
   "cell_type": "markdown",
   "metadata": {},
   "source": []
  },
  {
   "cell_type": "code",
   "execution_count": 10,
   "metadata": {},
   "outputs": [
    {
     "data": {
      "text/plain": [
       "<matplotlib.image.AxesImage at 0x7f76b486a2c0>"
      ]
     },
     "execution_count": 10,
     "metadata": {},
     "output_type": "execute_result"
    },
    {
     "data": {
      "image/png": "[encoded data removed]",
      "text/plain": [
       "<Figure size 640x480 with 1 Axes>"
      ]
     },
     "metadata": {},
     "output_type": "display_data"
    }
   ],
   "source": [
    "import matplotlib.pyplot as plt\n",
    "# Show the image \"image (82).png\" in the current directory\n",
    "img = plt.imread(\"image (82).png\")\n",
    "plt.imshow(img)\n"
   ]
  },
  {
   "cell_type": "markdown",
   "metadata": {},
   "source": [
    "Here are the inputs to the current RandomTargetDelay task:\n",
    "Top panel shows the env_states\n",
    "- Visual inputs of the hand position\n",
    "- Muscle lengths\n",
    "- Muscle Velocities\n",
    "\n",
    "Bottom panel shows the \"inputs\":\n",
    "- Target onset is when the reaching target is shown to the model\n",
    "- Go-cue is when the model is allowed to make the reach."
   ]
  },
  {
   "cell_type": "markdown",
   "metadata": {},
   "source": [
    "## By modifying the effector's \"generate_dataset\" function and the loss function, you should be able to make your model do most things without too much trouble."
   ]
  }
 ],
 "metadata": {
  "kernelspec": {
   "display_name": "build5",
   "language": "python",
   "name": "python3"
  },
  "language_info": {
   "codemirror_mode": {
    "name": "ipython",
    "version": 3
   },
   "file_extension": ".py",
   "mimetype": "text/x-python",
   "name": "python",
   "nbconvert_exporter": "python",
   "pygments_lexer": "ipython3",
   "version": "3.10.13"
  }
 },
 "nbformat": 4,
 "nbformat_minor": 2
}
